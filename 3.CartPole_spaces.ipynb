{
 "cells": [
  {
   "cell_type": "code",
   "execution_count": 3,
   "id": "3e7b9842",
   "metadata": {},
   "outputs": [
    {
     "name": "stdout",
     "output_type": "stream",
     "text": [
      "Discrete(2)\n",
      "Box([-4.8000002e+00 -3.4028235e+38 -4.1887903e-01 -3.4028235e+38], [4.8000002e+00 3.4028235e+38 4.1887903e-01 3.4028235e+38], (4,), float32)\n",
      "[4.8000002e+00 3.4028235e+38 4.1887903e-01 3.4028235e+38]\n",
      "[-4.8000002e+00 -3.4028235e+38 -4.1887903e-01 -3.4028235e+38]\n"
     ]
    }
   ],
   "source": [
    "import sys\n",
    "sys.path.append('/home/rhino/anaconda3/envs/rl_env/lib/python3.9/site-packages')\n",
    "import gym\n",
    "\n",
    "env = gym.make('CartPole-v1')\n",
    "'''\n",
    "Discrete: 고정된 범위의 음이 아닌 숫자를 허용하는 공간.\n",
    "Box: n-차원의 박스를 나타낸다.\n",
    "'''\n",
    "print(env.action_space)\n",
    "print(env.observation_space)\n",
    "\n",
    "print(env.observation_space.high)\n",
    "print(env.observation_space.low)"
   ]
  },
  {
   "cell_type": "code",
   "execution_count": 6,
   "id": "d1629d3f",
   "metadata": {},
   "outputs": [
    {
     "name": "stdout",
     "output_type": "stream",
     "text": [
      "Discrete(8)\n",
      "0\n",
      "True\n",
      "True\n"
     ]
    }
   ],
   "source": [
    "from gym import spaces\n",
    "\n",
    "space = spaces.Discrete(8) # 8개의 요소를 갖는 세트 {0, 1, 2, ..., 7}\n",
    "x = space.sample()\n",
    "\n",
    "print(space)\n",
    "print(x)\n",
    "print(space.contains(x))\n",
    "print(space.n == 8)"
   ]
  },
  {
   "cell_type": "code",
   "execution_count": null,
   "id": "38363e28",
   "metadata": {},
   "outputs": [],
   "source": []
  }
 ],
 "metadata": {
  "kernelspec": {
   "display_name": "Python 3 (ipykernel)",
   "language": "python",
   "name": "python3"
  },
  "language_info": {
   "codemirror_mode": {
    "name": "ipython",
    "version": 3
   },
   "file_extension": ".py",
   "mimetype": "text/x-python",
   "name": "python",
   "nbconvert_exporter": "python",
   "pygments_lexer": "ipython3",
   "version": "3.9.12"
  }
 },
 "nbformat": 4,
 "nbformat_minor": 5
}
